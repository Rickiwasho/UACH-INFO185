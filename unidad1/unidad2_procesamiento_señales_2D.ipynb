{
 "cells": [
  {
   "cell_type": "code",
   "execution_count": null,
   "metadata": {
    "slideshow": {
     "slide_type": "skip"
    }
   },
   "outputs": [],
   "source": [
    "%%HTML\n",
    "<!-- Mejorar visualización en proyector -->\n",
    "<style>\n",
    ".rendered_html {font-size: 1.2em; line-height: 150%;}\n",
    "div.prompt {min-width: 0ex; }\n",
    ".container {width:95% !important;}\n",
    "</style>"
   ]
  },
  {
   "cell_type": "code",
   "execution_count": null,
   "metadata": {
    "slideshow": {
     "slide_type": "skip"
    }
   },
   "outputs": [],
   "source": [
    "import numpy as np\n",
    "import scipy.signal\n",
    "from scipy import fftpack\n",
    "%matplotlib notebook\n",
    "import matplotlib as mpl\n",
    "import matplotlib.pyplot as plt\n",
    "from matplotlib import animation, patches\n",
    "from IPython.display import display, Audio, HTML\n",
    "import soundfile as sf\n",
    "from style import *\n",
    "\n",
    "plt.rcParams['image.cmap'] = 'gray'\n",
    "\n",
    "def color2bw(img):\n",
    "    return np.dot(img, [0.299, 0.587, 0.114]) \n"
   ]
  },
  {
   "cell_type": "markdown",
   "metadata": {
    "slideshow": {
     "slide_type": "slide"
    }
   },
   "source": [
    "### Universidad Austral de Chile \n",
    "## INFO185 Comunicaciones\n",
    "\n",
    "\n",
    "# Unidad 2 - Análisis de señales bidimensiones \n",
    "\n",
    "### Dr. Pablo Huijse, phuijse at inf dot uach dot cl \n",
    "\n",
    "### <a href=\"https://github.com/phuijse/UACH-INFO185\"> github.com/phuijse/UACH-INFO185 </a>\n"
   ]
  },
  {
   "cell_type": "markdown",
   "metadata": {
    "slideshow": {
     "slide_type": "slide"
    }
   },
   "source": [
    "## Contenidos\n",
    "- Imágenes, percepción y modelos de color\n",
    "- Transformada de Fourier bidimensional\n",
    "- Filtros y convolución\n",
    "- Transformada coseno bidimensional\n",
    "- Compresión con estándar JPEG"
   ]
  },
  {
   "cell_type": "markdown",
   "metadata": {
    "slideshow": {
     "slide_type": "slide"
    }
   },
   "source": [
    "## Imágenes\n",
    "\n",
    "- Una imagen se representa como una matriz de NxM componentes. \n",
    "- Los elementos de la matriz se llaman píxeles. \n",
    "- Los píxeles pueden ser unidimensionales (imagen en blanco y negro) o multidimensionales (RGB, HSV, HSL)\n",
    "- Típicamente los canales se codifican como un número entero (sin signo) de 8 bits [0, 255] o un número flotante entre [0.0, 1.0]\n",
    "\n",
    "<center><img src=\"images/image_matrix.png\" width=\"600\"></center>\n"
   ]
  },
  {
   "cell_type": "markdown",
   "metadata": {
    "slideshow": {
     "slide_type": "slide"
    }
   },
   "source": [
    "## Imágenes como señal bidimensional\n",
    "\n"
   ]
  },
  {
   "cell_type": "code",
   "execution_count": null,
   "metadata": {
    "slideshow": {
     "slide_type": "fragment"
    }
   },
   "outputs": [],
   "source": [
    "from mpl_toolkits.mplot3d import axes3d\n",
    "x = np.linspace(-2*np.pi, 2*np.pi, 100)\n",
    "X, Y = np.meshgrid(x, x); Z = 127.5 + 127.5*np.cos(X);\n",
    "fig = plt.figure(figsize=(10, 10));\n",
    "ax = fig.add_subplot(111, projection='3d'); ax.set_proj_type('ortho')\n",
    "def update(angle1=45, angle2=45):\n",
    "    ax.cla();\n",
    "    im = ax.plot_surface(X, Y, Z, cmap=plt.cm.RdBu_r); \n",
    "    ax.view_init(angle1, angle2); \n",
    "    ax.set_xlim3d([-2*np.pi, 2*np.pi]); ax.set_ylim3d([-2*np.pi, 2*np.pi]);\n",
    "    ax.set_aspect('equal'); #plt.colorbar(im); \n",
    "interact(update, angle1=FloatSlider(min=0.0, max=90.0, value=45, \n",
    "                               description=\"Pitch\", layout=slider_layout),\n",
    "            angle2=FloatSlider(min=0.0, max=90.0, value=45, \n",
    "                               description=\"Rotation\", layout=slider_layout));"
   ]
  },
  {
   "cell_type": "markdown",
   "metadata": {
    "slideshow": {
     "slide_type": "slide"
    }
   },
   "source": [
    "## Sensor Charged Coupled Device (CCD)\n",
    "\n",
    "- **Efecto fotoeléctrico:** Fotones al impactar un conductor con una cierta frecuencia provocan el desprendimiento de electrones\n",
    "- En un sensor CCD, cada pixel \"cuenta fotones\" usando el efecto fotoeléctrico\n",
    "- La cantidad de cuentas se relaciona con la intensidad. \n",
    "- Un conteo se modela como un proceso de Poisson. Si la cantidad de cuentas es grande se puede aproximar con estadísticas Gaussianas.\n",
    "- El sensor CCD es la base de las cámaras digitales modernas\n",
    "\n",
    "\n",
    "<center><img src=\"images/photons-hit-silicon.jpg\" width=\"600\"></center>\n",
    "\n",
    "Ref: https://en.wikipedia.org/wiki/Charge-coupled_device"
   ]
  },
  {
   "cell_type": "markdown",
   "metadata": {
    "slideshow": {
     "slide_type": "slide"
    }
   },
   "source": [
    "## Manipulación de imágenes con python\n",
    "\n",
    "- Podemos leer imágenes usando la función imread de matplotlib \n",
    "- Retornará un arreglo tridimensional (filas, columnas, canales)\n",
    "- Los canales pueden ser 3 (RGB) o 4 (RGBA)\n",
    "- Podemos operar sobre el arreglo usando numpy, scipy u otras herramientas"
   ]
  },
  {
   "cell_type": "code",
   "execution_count": null,
   "metadata": {
    "slideshow": {
     "slide_type": "fragment"
    }
   },
   "outputs": [],
   "source": [
    "plt.figure(figsize=(10, 5))\n",
    "img_color = plt.imread('images/valdivia.jpg')\n",
    "print(\"Shape: %s, Type: %s\" %(repr(img_color.shape), img_color.dtype))\n",
    "print(img_color[0, 0, :])\n",
    "plt.imshow(img_color);"
   ]
  },
  {
   "cell_type": "markdown",
   "metadata": {
    "slideshow": {
     "slide_type": "slide"
    }
   },
   "source": [
    "Los tres canales para la imagen anterior:"
   ]
  },
  {
   "cell_type": "code",
   "execution_count": null,
   "metadata": {
    "slideshow": {
     "slide_type": "fragment"
    }
   },
   "outputs": [],
   "source": [
    "from matplotlib.colors import LinearSegmentedColormap\n",
    "\n",
    "\n",
    "custom_cmap = LinearSegmentedColormap.from_list('RedBlack', [(0, 0, 0), (1, 0, 0)], N=100)\n",
    "plt.figure(figsize=(10, 5)); plt.title('R')\n",
    "plt.imshow(img_color[:, :, 0], cmap=custom_cmap); plt.colorbar(orientation='vertical')\n",
    "\n",
    "custom_cmap = LinearSegmentedColormap.from_list('GreenBlack', [(0, 0, 0), (0, 1, 0)], N=100)\n",
    "\n",
    "plt.figure(figsize=(10, 5)); plt.title('G')\n",
    "plt.imshow(img_color[:, :, 1], cmap=custom_cmap); plt.colorbar(orientation='vertical')\n",
    "\n",
    "custom_cmap = LinearSegmentedColormap.from_list('BlueBlack', [(0, 0, 0), (0, 0, 1)], N=100)\n",
    "\n",
    "plt.figure(figsize=(10, 5)); plt.title('B')\n",
    "plt.imshow(img_color[:, :, 2], cmap=custom_cmap); plt.colorbar(orientation='vertical');\n"
   ]
  },
  {
   "cell_type": "markdown",
   "metadata": {
    "slideshow": {
     "slide_type": "slide"
    }
   },
   "source": [
    "## Visión humana\n",
    "\n",
    "- El ojo humano tiene en su retina dos tipos de fotoreceptores: conos y bastones\n",
    "- Bastones \n",
    "    - ~120 millones en la retina\n",
    "    - No perciben color\n",
    "    - Requieren poco brillo para producir una señal\n",
    "    - Tienen baja agudeza (menos sencibles a los detalles)\n",
    "- Los conos \n",
    "    - ~6 millones en la retina\n",
    "    - Perciben color \n",
    "    - Requieren mucho brillo para producir una señal\n",
    "    - Tienen alta agudeza visual\n",
    "- Tres tipos de conos cada uno sintonizado a una longitud de onda distinta\n",
    "<center><img src=\"images/cones_rods.gif\" width=\"500\"></center>\n",
    "<center><img src=\"images/cone_rod_density.gif\" width=\"500\"></center>\n",
    "\n",
    "Ref: http://www.danielgmurphy.com/physics/1_intro/contents_phyics1.html"
   ]
  },
  {
   "cell_type": "markdown",
   "metadata": {
    "slideshow": {
     "slide_type": "slide"
    }
   },
   "source": [
    "Podemos convertir una imagen en color a escala de grises usando la siguiente transformación\n",
    "\n",
    "$$\n",
    "0.299 R + 0.587 G + 0.114 B\n",
    "$$\n",
    "\n",
    "que se obtiene del diagrama anterior"
   ]
  },
  {
   "cell_type": "code",
   "execution_count": null,
   "metadata": {
    "slideshow": {
     "slide_type": "fragment"
    }
   },
   "outputs": [],
   "source": [
    "color2bw??"
   ]
  },
  {
   "cell_type": "code",
   "execution_count": null,
   "metadata": {
    "slideshow": {
     "slide_type": "fragment"
    }
   },
   "outputs": [],
   "source": [
    "img_bw = color2bw(img_color)\n",
    "plt.figure(figsize=(10, 5)); \n",
    "plt.imshow(img_bw, cmap=plt.cm.Greys_r);"
   ]
  },
  {
   "cell_type": "markdown",
   "metadata": {
    "slideshow": {
     "slide_type": "slide"
    }
   },
   "source": [
    "El estándar HSV (Hue, Saturation, Value)\n",
    "\n",
    "<center><img src=\"images/hsv_cilinder.jpg\" width=\"400\"></center>\n",
    "\n",
    "La imagen anterior en este estándar"
   ]
  },
  {
   "cell_type": "code",
   "execution_count": null,
   "metadata": {
    "slideshow": {
     "slide_type": "fragment"
    }
   },
   "outputs": [],
   "source": [
    "from matplotlib import colors\n",
    "\n",
    "img_color = plt.imread('images/valdivia.jpg')\n",
    "img_color = colors.rgb_to_hsv(img_color)\n",
    "print(\"Shape: %s, Type: %s\" %(repr(img_color.shape), img_color.dtype))\n",
    "print(img_color[0, 0, :])\n",
    "\n",
    "plt.figure(figsize=(10, 5)); plt.title('H')\n",
    "plt.imshow(img_color[:, :, 0], plt.cm.hsv); plt.colorbar(orientation='vertical')\n",
    "plt.figure(figsize=(10, 5)); plt.title('S')\n",
    "plt.imshow(img_color[:, :, 1], plt.cm.Greys_r); plt.colorbar(orientation='vertical')\n",
    "plt.figure(figsize=(10, 5)); plt.title('V')\n",
    "plt.imshow(img_color[:, :, 2], plt.cm.Greys_r); plt.colorbar(orientation='vertical');"
   ]
  },
  {
   "cell_type": "markdown",
   "metadata": {
    "slideshow": {
     "slide_type": "slide"
    }
   },
   "source": [
    "## Transformada de Fourier bidimensional\n",
    "\n",
    "La DFT se puede aplicar a funciones multi-dimensionales. En el caso discreto de una señal bidimensional $g[n_1, n_2]$ con índices $n_1 \\in [0, N_1-1]$ y $n_2 \\in [0, N_2-1]$ tenemos\n",
    "\n",
    "$$\n",
    "G[k_1, k_2] = \\sum_{n_1=0}^{N_1-1} \\sum_{n_2=0}^{N_2-1} g[n_1, n_2] \\exp \\left ( -j2\\pi  \\left[\\frac{n_1 k_1}{N_1} + \\frac{n_2 k_2}{N_2} \\right] \\right)\n",
    "$$\n",
    "y su inversa\n",
    "\n",
    "$$\n",
    "g[n_1, n_2] = \\frac{1}{N_1 N_2}\\sum_{k_1=0}^{N_1-1} \\sum_{k_2=0}^{N_2-1} G[k_1, k_2] \\exp \\left ( j2\\pi  \\left[\\frac{n_1 k_1}{N_1} + \\frac{n_2 k_2}{N_2} \\right] \\right)\n",
    "$$\n",
    "\n",
    "Notemos que\n",
    "\n",
    "\\begin{align}\n",
    "G[k_1, k_2] &= \\sum_{n_1=0}^{N_1-1} \\left(\\sum_{n_2=0}^{N_2-1} g[n_1, n_2] \\exp \\left (-j2\\pi \\frac{n_2 k_2}{N_2}\\right) \\right) \\exp \\left (-j2\\pi \\frac{n_1 k_1}{N_1}\\right) \\\\\n",
    "&= \\sum_{n_1=0}^{N_1-1} \\gamma_{n_1}[n_2] \\exp \\left (-j2\\pi \\frac{n_1 k_1}{N_1}\\right),\n",
    "\\end{align}\n",
    "\n",
    "*i.e.* se descompone como dos DFT de una dimensión. En cada paso podemos usar la FFT"
   ]
  },
  {
   "cell_type": "markdown",
   "metadata": {
    "slideshow": {
     "slide_type": "slide"
    }
   },
   "source": [
    "## Base de Fourier en dos dimensiones\n",
    "\n",
    "- Parte real"
   ]
  },
  {
   "cell_type": "code",
   "execution_count": null,
   "metadata": {
    "slideshow": {
     "slide_type": "fragment"
    }
   },
   "outputs": [],
   "source": [
    "x = np.arange(0, 32, step=1)\n",
    "X, Y = np.meshgrid(x, x)\n",
    "fig, ax = plt.subplots(9, 9, figsize=(11, 11), tight_layout=False)\n",
    "for n in range(9):\n",
    "    for m in range(9):\n",
    "        ax[n, m].matshow(np.cos(2.0*np.pi*X*m/len(x) + 2.0*np.pi*Y*n/len(x)), \n",
    "                         cmap=plt.cm.RdBu_r, vmin=-1, vmax=1)\n",
    "        ax[n, m].axis('off')"
   ]
  },
  {
   "cell_type": "markdown",
   "metadata": {
    "slideshow": {
     "slide_type": "fragment"
    }
   },
   "source": [
    "- Parte imaginaria"
   ]
  },
  {
   "cell_type": "code",
   "execution_count": null,
   "metadata": {
    "slideshow": {
     "slide_type": "fragment"
    }
   },
   "outputs": [],
   "source": [
    "fig, ax = plt.subplots(9, 9, figsize=(11, 11), tight_layout=False)\n",
    "for n in range(9):\n",
    "    for m in range(9):\n",
    "        ax[n, m].matshow(np.sin(2.0*np.pi*X*m/len(x) + 2.0*np.pi*Y*n/len(x)), \n",
    "                         cmap=plt.cm.RdBu_r, vmin=-1, vmax=1)\n",
    "        ax[n, m].axis('off')"
   ]
  },
  {
   "cell_type": "markdown",
   "metadata": {
    "slideshow": {
     "slide_type": "slide"
    }
   },
   "source": [
    "## Espectro de una imagen \n",
    "\n",
    "- Podemos usar la transformada de Fourier 2D para obtener el espectro de amplitud de una imagen\n",
    "- Las dimensiones de la DFT son frecuencias espaciales"
   ]
  },
  {
   "cell_type": "code",
   "execution_count": null,
   "metadata": {
    "slideshow": {
     "slide_type": "fragment"
    }
   },
   "outputs": [],
   "source": [
    "img_bw = color2bw(img_color)\n",
    "fig, ax = plt.subplots(1, 2, figsize=(11, 4), tight_layout=True)\n",
    "ax[0].imshow(img_bw); ax[0].set_title(\"Imagen\")\n",
    "ax[1].set_title(\"Espectro de amplitud\")\n",
    "ax[1].imshow(fftpack.fftshift(np.abs(fftpack.fft2(img_bw))), \n",
    "          extent=[-img_bw.shape[1]//2, img_bw.shape[1]//2, -img_bw.shape[0]//2, img_bw.shape[0]//2]);\n"
   ]
  },
  {
   "cell_type": "markdown",
   "metadata": {
    "slideshow": {
     "slide_type": "fragment"
    }
   },
   "source": [
    "- Para visualizar mejor el espectro de una imagen natural se recomienda usar\n",
    "$$\n",
    "\\log(|\\text{fft2}(I)|+1)\n",
    "$$\n",
    "de esta forma el componente central no es tan dominante"
   ]
  },
  {
   "cell_type": "code",
   "execution_count": null,
   "metadata": {
    "slideshow": {
     "slide_type": "fragment"
    }
   },
   "outputs": [],
   "source": [
    "fig, ax = plt.subplots(1, 2, figsize=(11, 4), tight_layout=True)\n",
    "\n",
    "ax[0].imshow(img_bw); ax[0].set_title(\"Imagen\")\n",
    "ax[1].set_title(\"Espectro de amplitud\")\n",
    "ax[1].imshow(fftpack.fftshift(np.log(np.abs(fftpack.fft2(img_bw))+1)), \n",
    "          extent=[-img_bw.shape[1]//2, img_bw.shape[1]//2, -img_bw.shape[0]//2, img_bw.shape[0]//2]);\n",
    "plt.tight_layout(pad=0.1)"
   ]
  },
  {
   "cell_type": "markdown",
   "metadata": {
    "slideshow": {
     "slide_type": "slide"
    }
   },
   "source": [
    "## Espectro de una imagen sintética\n",
    "\n",
    "- Para aprender a interpretar el espectro es útil estudiar imágenes sintéticas\n",
    "- Por ejemplo: Dos impulsos en el espectro es una sinusoide en el espacio original y viceversa"
   ]
  },
  {
   "cell_type": "code",
   "execution_count": null,
   "metadata": {
    "slideshow": {
     "slide_type": "fragment"
    }
   },
   "outputs": [],
   "source": [
    "fig, ax = plt.subplots(1, 2, figsize=(10, 6), tight_layout=True); \n",
    "\n",
    "def update(x_pos=0, y_pos=0):\n",
    "    S_img = np.zeros(shape=(80, 80)); \n",
    "    S_img[x_pos, y_pos] = 1.0; S_img[-x_pos, -y_pos] = 1.0;\n",
    "    #S_img[-x_pos, y_pos] = 1.0; S_img[x_pos, -y_pos] = 1.0; \n",
    "    ax[1].set_title(\"Espectro de amplitud\");  ax[0].set_title(\"Imagen\")\n",
    "    im = ax[1].imshow(fftpack.fftshift(S_img), extent=[-40, 40, 40, -40])\n",
    "    im = ax[0].imshow(np.real(fftpack.ifft2(S_img))); \n",
    "    #plt.colorbar(im, orientation='horizontal')\n",
    "interact(update, x_pos=IntSlider_nice(min=-39, max=39, value=0, description=\"x position\"),\n",
    "            y_pos=IntSlider_nice(min=-39, max=39, value=0, description=\"y position\"));"
   ]
  },
  {
   "cell_type": "code",
   "execution_count": null,
   "metadata": {
    "slideshow": {
     "slide_type": "fragment"
    }
   },
   "outputs": [],
   "source": [
    "fig, ax = plt.subplots(1, 2, figsize=(10, 6), tight_layout=True); \n",
    "\n",
    "def update(x_f=0, y_f=0):\n",
    "    x = np.arange(0, 80)\n",
    "    X, Y = np.meshgrid(x, x)\n",
    "    img = np.cos(2.0*np.pi*X*x_f/80 + 2.0*np.pi*Y*y_f/80)\n",
    "    # img = np.cos(2.0*np.pi*X*x_f/80) + np.cos(2.0*np.pi*Y*y_f/80)\n",
    "    # img = np.cos(2.0*np.pi*X*x_f/80)*np.cos(2.0*np.pi*Y*y_f/80)\n",
    "    S_img = np.abs(fftpack.fft2(img))    \n",
    "    ax[1].set_title(\"Espectro de amplitud\");  ax[0].set_title(\"Imagen\")\n",
    "    im = ax[1].imshow(fftpack.fftshift(S_img), extent=[-40, 40, 40, -40])\n",
    "    im = ax[0].imshow(img); \n",
    "    \n",
    "interact(update, x_f=IntSlider_nice(min=0, max=39, value=0, description=\"x frequency\"),\n",
    "         y_f=IntSlider_nice(min=0, max=39, value=0, description=\"y frequency\"));"
   ]
  },
  {
   "cell_type": "markdown",
   "metadata": {
    "slideshow": {
     "slide_type": "slide"
    }
   },
   "source": [
    "## Espectro de una imagen sintética\n",
    "\n",
    "- Una línea en la imagen es una línea en el espectro (con otra orientación) ¿Por qué?"
   ]
  },
  {
   "cell_type": "code",
   "execution_count": null,
   "metadata": {
    "slideshow": {
     "slide_type": "fragment"
    }
   },
   "outputs": [],
   "source": [
    "plt.close('all'); fig, ax = plt.subplots(1, 2, figsize=(10, 6), tight_layout=True); \n",
    "\n",
    "def update(pix_angle=0):\n",
    "    img = np.zeros(shape=(80, 80));     \n",
    "    for i in range(80):\n",
    "        img[i, int(i - 2*pix_angle*i/80 + pix_angle)] = 1 \n",
    "    ax[1].set_title(\"Magnitude spectrum\");  ax[0].set_title(\"Image\")\n",
    "    S_img = np.abs(fftpack.fft2(img))\n",
    "    im = ax[1].imshow(fftpack.fftshift(S_img), \n",
    "                      extent=[-40, 40, 40, -40])\n",
    "    im = ax[0].imshow(img); \n",
    "    \n",
    "interact(update, pix_angle=IntSlider_nice(min=0, max=79, value=40));"
   ]
  },
  {
   "cell_type": "markdown",
   "metadata": {
    "slideshow": {
     "slide_type": "fragment"
    }
   },
   "source": [
    "¿Cómo se explica esto? Consideremos el caso donde la rotación es 40 pixeles. \n",
    "\n",
    "### Propiedad: \n",
    "\n",
    "En ese caso la transformada de Fourier 2D es totalmente separable en dos transformadas de Fourier"
   ]
  },
  {
   "cell_type": "code",
   "execution_count": null,
   "metadata": {
    "slideshow": {
     "slide_type": "fragment"
    }
   },
   "outputs": [],
   "source": [
    "A = np.array([[0, 0, 1, 0, 0]])\n",
    "B = np.array([[1, 1, 1, 1, 1]])\n",
    "A*B.T"
   ]
  },
  {
   "cell_type": "markdown",
   "metadata": {
    "slideshow": {
     "slide_type": "fragment"
    }
   },
   "source": [
    "$$\n",
    "\\begin{align}\n",
    "G[k_1, k_2] &= \\sum_{n_1=0}^{N_1-1} \\sum_{n_2=0}^{N_2-1} g[n_1, n_2] \\exp \\left ( -j2\\pi  \\left[\\frac{n_1 k_1}{N_1} + \\frac{n_2 k_2}{N_2} \\right] \\right) \\nonumber \\\\\n",
    "& = \\sum_{n_1=0}^{N_1-1} \\sum_{n_2=0}^{N_2-1} g_1[n_1] g_2[n_2] \\exp \\left ( -j2\\pi \\frac{n_1 k_1}{N_1} \\right)  \\exp \\left ( -j2\\pi\\frac{n_2 k_2}{N_2}  \\right) \\nonumber \\\\\n",
    "& = \\sum_{n_1=0}^{N_1-1} g_1[n_1] \\exp \\left ( -j2\\pi \\frac{n_1 k_1}{N_1} \\right)  \\sum_{n_2=0}^{N_2-1} g_2[n_2] \\exp \\left ( -j2\\pi\\frac{n_2 k_2}{N_2}  \\right) \\nonumber \\\\\n",
    "\\end{align}\n",
    "$$\n",
    "\n",
    "- Transformada de Fourier de un impulso: Una constante\n",
    "- Transformada de Fourier de una constante: Un impulso\n",
    "Resultado: Una linea rotada en 90º con respecto a la original"
   ]
  },
  {
   "cell_type": "markdown",
   "metadata": {
    "slideshow": {
     "slide_type": "fragment"
    }
   },
   "source": [
    "Concentremos ahora en los ángulos (en píxeles) distintos de 0, 40 y 80 \n",
    "\n",
    "¿A qué corresponde el efecto  observado?\n",
    "\n",
    "### Propiedad: La DFT es periódica\n",
    "\n",
    "Cuando los ángulos no calzan entonces observamos un artefacto de borde"
   ]
  },
  {
   "cell_type": "code",
   "execution_count": null,
   "metadata": {
    "slideshow": {
     "slide_type": "fragment"
    }
   },
   "outputs": [],
   "source": [
    "plt.close('all'); fig, ax = plt.subplots(1, figsize=(6, 6), tight_layout=True); \n",
    "\n",
    "def update(pix_angle=0):\n",
    "    img = np.zeros(shape=(80, 80));\n",
    "    for i in range(20):\n",
    "        for k1 in range(4):\n",
    "            for k2 in range(4):\n",
    "                img[i+k1*20, k2*20 + int(i - 2*pix_angle*i/20 + pix_angle)-1] = 1 \n",
    "    im = ax.matshow(img); \n",
    "interact(update, pix_angle=IntSlider_nice(min=0, max=20, value=0));"
   ]
  },
  {
   "cell_type": "markdown",
   "metadata": {
    "slideshow": {
     "slide_type": "slide"
    }
   },
   "source": [
    "## Espectro de una imagen sintética\n",
    "\n",
    "- Un rectangulo en la imagen es un sinc en el espectro"
   ]
  },
  {
   "cell_type": "code",
   "execution_count": null,
   "metadata": {
    "slideshow": {
     "slide_type": "fragment"
    }
   },
   "outputs": [],
   "source": [
    "plt.close('all'); fig, ax = plt.subplots(1, 2, figsize=(10, 6), tight_layout=True); \n",
    "\n",
    "def update(width=1):\n",
    "    img = np.zeros(shape=(80, 80)); #S_img[0, 0] = 0.0;\n",
    "    img[40-width:40+width, 40-width:40+width] = 1.0; \n",
    "    ax[1].set_title(\"Espectro de amplitud\")\n",
    "    S_img = np.abs(fftpack.fft2(img))\n",
    "    im = ax[1].imshow(fftpack.fftshift(S_img), extent=[-40, 40, 40, -40])\n",
    "    ax[0].set_title(\"Imagen\")\n",
    "    im = ax[0].imshow(img); \n",
    "\n",
    "interact(update, width=IntSlider_nice(min=1, max=39, value=0, description=\"square size\"));"
   ]
  },
  {
   "cell_type": "markdown",
   "metadata": {
    "slideshow": {
     "slide_type": "slide"
    }
   },
   "source": [
    "## Espectro de una imagen sintética\n",
    "\n",
    "- Una Gaussiana en el espectro es una Gaussiana en el espacio original"
   ]
  },
  {
   "cell_type": "code",
   "execution_count": null,
   "metadata": {
    "slideshow": {
     "slide_type": "fragment"
    }
   },
   "outputs": [],
   "source": [
    "plt.close('all'); fig, ax = plt.subplots(1, 2, figsize=(10, 6), tight_layout=True); \n",
    "\n",
    "def update(bandwidth=1.0):\n",
    "    x = np.linspace(-100, 100, num=500)\n",
    "    X, Y = np.meshgrid(x, x)\n",
    "    img = np.exp(-0.5*(X**2 + Y**2)/bandwidth**2)\n",
    "    ax[1].set_title(\"Espectro de amplitud\")\n",
    "    S_img = np.abs(fftpack.fft2(img))\n",
    "    im = ax[1].imshow(fftpack.fftshift(S_img), extent=[-250, 250, 250, -250])\n",
    "    ax[0].set_title(\"Imagen\")\n",
    "    im = ax[0].imshow(img);     \n",
    "    \n",
    "interact(update, bandwidth=FloatSlider_nice(min=0.1, max=50.0, value=0, description=\"Bandwidth\"));"
   ]
  },
  {
   "cell_type": "markdown",
   "metadata": {
    "slideshow": {
     "slide_type": "slide"
    }
   },
   "source": [
    "## Espectro de una imagen sintética\n",
    "\n",
    "- Una imagen de ruido blanco y su espectro"
   ]
  },
  {
   "cell_type": "code",
   "execution_count": null,
   "metadata": {
    "slideshow": {
     "slide_type": "fragment"
    }
   },
   "outputs": [],
   "source": [
    "plt.close('all'); fig, ax = plt.subplots(1, 2, figsize=(10, 6), tight_layout=True); \n",
    "\n",
    "def update(rseed=1.0):\n",
    "    np.random.seed(rseed)\n",
    "    img = np.random.randn(500, 500) \n",
    "    ax[1].set_title(\"Espectro de amplitud\")\n",
    "    S_img = np.log10(1e-6 + np.abs(fftpack.fft2(img)))\n",
    "    im = ax[1].imshow(fftpack.fftshift(S_img), extent=[-250, 250, 250, -250])\n",
    "    ax[0].set_title(\"Imagen\")\n",
    "    im = ax[0].imshow(img); \n",
    "\n",
    "interact(update, rseed=IntSlider_nice(min=0, max=100, value=0, description=\"rseed\"));"
   ]
  },
  {
   "cell_type": "markdown",
   "metadata": {
    "slideshow": {
     "slide_type": "slide"
    }
   },
   "source": [
    "## Espectro de una imagen sintética\n",
    "\n",
    "- Una imagen de ruido rojo y su espectro"
   ]
  },
  {
   "cell_type": "code",
   "execution_count": null,
   "metadata": {
    "slideshow": {
     "slide_type": "fragment"
    }
   },
   "outputs": [],
   "source": [
    "plt.close('all'); fig, ax = plt.subplots(1, 2, figsize=(10, 6), tight_layout=True); \n",
    "\n",
    "def f(rseed=1.0, gamma=0.0):\n",
    "    np.random.seed(rseed)\n",
    "    red_noise = np.random.randn(500, 500) \n",
    "    rho = 1-10**-gamma\n",
    "    #for i in range(2,500):\n",
    "    #    red_noise[i, :] = rho*red_noise[i-1, :] + red_noise[i, :]\n",
    "    #    red_noise[:, i] = rho*red_noise[:, i-1] + red_noise[:, i]\n",
    "    for i in range(2, 500):\n",
    "        for j in range(2, 500):\n",
    "            red_noise[i, j] += rho*np.average(red_noise[i-2:i, j-2:j])\n",
    "    ax[1].set_title(\"Espectro de amplitud\")\n",
    "    S_img = np.log10(1e-10 + np.abs(fftpack.fft2(red_noise)))\n",
    "    im = ax[1].imshow(fftpack.fftshift(S_img), extent=[-250, 250, 250, -250])\n",
    "    ax[0].set_title(\"Imagen\")\n",
    "    im = ax[0].imshow(red_noise); \n",
    "\n",
    "interact(f, rseed=IntSlider_nice(min=0, max=100, value=0, description=\"rseed\"),\n",
    "        gamma=FloatSlider_nice(min=0, max=3, value=0, description=\"$\\gamma$\"));"
   ]
  },
  {
   "cell_type": "markdown",
   "metadata": {
    "slideshow": {
     "slide_type": "slide"
    }
   },
   "source": [
    "## Espectro de una imagen natural\n",
    "\n",
    "- ¿Pueden reconocer a que corresponden las estructuras en el espectro?"
   ]
  },
  {
   "cell_type": "code",
   "execution_count": null,
   "metadata": {
    "slideshow": {
     "slide_type": "fragment"
    }
   },
   "outputs": [],
   "source": [
    "img_building = color2bw(plt.imread('images/building.jpg'))\n",
    "fig, ax = plt.subplots(1, 2, figsize=(10, 6), tight_layout=True)\n",
    "S_img = fftpack.fft2(img_building)\n",
    "im = ax[0].imshow(fftpack.fftshift(np.log(np.abs(S_img)+1)))\n",
    "fig.colorbar(im, ax=ax[0], orientation='horizontal')\n",
    "im = ax[1].imshow(img_building)\n",
    "fig.colorbar(im, ax=ax[1], orientation='horizontal')"
   ]
  },
  {
   "cell_type": "markdown",
   "metadata": {
    "slideshow": {
     "slide_type": "fragment"
    }
   },
   "source": [
    "- La fuerte componente horizontal/vertical es en realidad un efecto de borde por la periodicidad de la DFT\n",
    "- La podemos suavizar usando enventanado"
   ]
  },
  {
   "cell_type": "code",
   "execution_count": null,
   "metadata": {
    "slideshow": {
     "slide_type": "fragment"
    }
   },
   "outputs": [],
   "source": [
    "fig, ax = plt.subplots(figsize=(7, 7))\n",
    "ax.imshow(np.tile(img_building, (3, 3)))\n",
    "ax.axis('off');"
   ]
  },
  {
   "cell_type": "code",
   "execution_count": null,
   "metadata": {
    "slideshow": {
     "slide_type": "fragment"
    }
   },
   "outputs": [],
   "source": [
    "win = np.hamming(img_building.shape[0]).reshape(-1, 1)\n",
    "win = np.dot(win, win.T)\n",
    "\n",
    "fig, ax = plt.subplots(1, 2, figsize=(10, 6), tight_layout=True)\n",
    "S_img = fftpack.fft2(win*img_building)\n",
    "im = ax[0].imshow(fftpack.fftshift(np.log(np.abs(S_img)+1)))\n",
    "fig.colorbar(im, ax=ax[0], orientation='horizontal')\n",
    "im = ax[1].imshow(img_building)\n",
    "fig.colorbar(im, ax=ax[1], orientation='horizontal')"
   ]
  },
  {
   "cell_type": "markdown",
   "metadata": {
    "slideshow": {
     "slide_type": "slide"
    }
   },
   "source": [
    "## Espectro de magnitud y de fase\n",
    "\n",
    "- La **magnitud espectral** guarda información de la amplitud de los componentes\n",
    "- La **fase espectral** guarda información del desfase (posición) de los componentes"
   ]
  },
  {
   "cell_type": "code",
   "execution_count": null,
   "metadata": {
    "slideshow": {
     "slide_type": "fragment"
    }
   },
   "outputs": [],
   "source": [
    "img_doge = color2bw(plt.imread('images/doge.jpg')) \n",
    "\n",
    "plt.figure(figsize=(9, 7))\n",
    "plt.imshow(img_doge)\n",
    "plt.colorbar(orientation='horizontal');"
   ]
  },
  {
   "cell_type": "code",
   "execution_count": null,
   "metadata": {
    "slideshow": {
     "slide_type": "fragment"
    }
   },
   "outputs": [],
   "source": [
    "fig, ax = plt.subplots(1, 2, figsize=(10, 5), tight_layout=True)\n",
    "S_img = fftpack.fft2(img_doge)\n",
    "im = ax[0].imshow(fftpack.fftshift(np.log(1.+np.abs(S_img))))\n",
    "fig.colorbar(im, ax=ax[0], orientation='horizontal')\n",
    "im = ax[1].imshow(fftpack.fftshift(np.angle(S_img)))  # arctan(imag/real)\n",
    "fig.colorbar(im, ax=ax[1], orientation='horizontal');"
   ]
  },
  {
   "cell_type": "markdown",
   "metadata": {
    "slideshow": {
     "slide_type": "slide"
    }
   },
   "source": [
    "- ¿Podemos reconstruir usando sólo el espectro de magnitud? ¿O usando sólo el de fase?"
   ]
  },
  {
   "cell_type": "code",
   "execution_count": null,
   "metadata": {
    "slideshow": {
     "slide_type": "fragment"
    }
   },
   "outputs": [],
   "source": [
    "def hist_eq(img, nbins=256):\n",
    "    image_hist, bins = np.histogram(img.flatten(), nbins, density=True)\n",
    "    cdf = image_hist.cumsum() \n",
    "    cdf = 255 * cdf / cdf[-1] \n",
    "    image_eq = np.interp(img.flatten(), bins[:-1], cdf)\n",
    "    return image_eq.reshape(img.shape).astype('int')\n",
    "    #return img\n",
    "\n",
    "fig, ax = plt.subplots(2, 2, figsize=(10, 8), tight_layout=True)\n",
    "for ax_ in ax.ravel():\n",
    "    ax_.axis('off')\n",
    "\n",
    "ax[0, 0].imshow(img_doge);\n",
    "S_dog = fftpack.fft2(img_doge)\n",
    "ax[0, 1].hist(img_doge.ravel(), alpha=0.5, bins=100); \n",
    "ax[0, 1].hist(hist_eq(img_doge.ravel()), alpha=0.5, bins=100);ax[0, 1].axis('on')\n",
    "reconstruct = lambda S: np.real(fftpack.ifft2(S))\n",
    "ax[1, 0].imshow(hist_eq(reconstruct(np.abs(S_dog))));\n",
    "ax[1, 1].imshow(hist_eq(reconstruct(np.exp(1j*np.angle(S_dog, deg=False)))));"
   ]
  },
  {
   "cell_type": "markdown",
   "metadata": {
    "slideshow": {
     "slide_type": "slide"
    }
   },
   "source": [
    "¿Y si intercambiamos la fase y magnitud de dos imágenes de igual tamaño?"
   ]
  },
  {
   "cell_type": "code",
   "execution_count": null,
   "metadata": {
    "slideshow": {
     "slide_type": "fragment"
    }
   },
   "outputs": [],
   "source": [
    "img_inst = color2bw(plt.imread(\"images/InsInformatica.jpg\"))  \n",
    "fig, ax = plt.subplots(2, 2, figsize=(9, 7), tight_layout=True)\n",
    "for ax_ in ax.ravel():\n",
    "    ax_.axis('off')\n",
    "\n",
    "ax[0, 0].imshow(img_doge);\n",
    "ax[0, 1].imshow(img_inst); \n",
    "S_inf = fftpack.fft2(img_inst)\n",
    "rec_doge = fftpack.ifft2(np.abs(S_dog)*np.exp(1j*np.angle(S_inf, deg=False)))\n",
    "rec_inst = fftpack.ifft2(np.abs(S_inf)*np.exp(1j*np.angle(S_dog, deg=False)))\n",
    "ax[1, 0].set_title('Amplitud doge\\nAngulo instituto')\n",
    "ax[1, 0].imshow(np.real(rec_doge)); \n",
    "ax[1, 1].set_title('Amplitud instituto\\nAngulo doge')\n",
    "ax[1, 1].imshow(np.real(rec_inst)); "
   ]
  },
  {
   "cell_type": "markdown",
   "metadata": {
    "slideshow": {
     "slide_type": "slide"
    }
   },
   "source": [
    "# Filtrado de imágenes en el dominio de frecuencia\n",
    "\n",
    "- Una multiplicación en el espacio de frecuencia equivale a una convolución en el espacio original\n",
    "- ¿Qué ocurre con la imagen original cuando énmascaramos una parte del espectro?\n",
    "\n",
    "## Filtro pasa-bajos: Eliminando las frecuencias altas\n",
    "\n",
    "1) Multiplicando el espectro por una ventana rectangular"
   ]
  },
  {
   "cell_type": "code",
   "execution_count": null,
   "metadata": {
    "slideshow": {
     "slide_type": "fragment"
    }
   },
   "outputs": [],
   "source": [
    "plt.close('all'); fig, ax = plt.subplots(1, 2, figsize=(10, 4), tight_layout=True);\n",
    "cy, cx = img_doge.shape[0]/2, img_doge.shape[1]/2\n",
    "x = np.arange(0, img_doge.shape[1]); y = np.arange(0, img_doge.shape[0]);\n",
    "X, Y = np.meshgrid(x, y)\n",
    "\n",
    "def update(sigma):\n",
    "    for ax_ in ax:\n",
    "        ax_.cla()\n",
    "        ax_.axis('off')\n",
    "    mask = np.zeros_like(S_img, dtype=np.float32)\n",
    "    mask[int(cy-sigma):int(cy+sigma), \n",
    "         int(cx-sigma):int(cx+sigma)] = 1\n",
    "    im = ax[0].imshow(fftpack.fftshift(np.log(1+np.abs(S_img)))*mask)\n",
    "    im = ax[1].imshow(np.real(fftpack.ifft2(fftpack.ifftshift(fftpack.fftshift(S_img)*mask))))\n",
    "interact(update, sigma=IntSlider_nice(min=1, max=200.0, value=200, description=\"Width\"));"
   ]
  },
  {
   "cell_type": "markdown",
   "metadata": {
    "slideshow": {
     "slide_type": "fragment"
    }
   },
   "source": [
    "2) Multiplicando el espectro por una ventana Gaussiana"
   ]
  },
  {
   "cell_type": "code",
   "execution_count": null,
   "metadata": {
    "slideshow": {
     "slide_type": "fragment"
    }
   },
   "outputs": [],
   "source": [
    "plt.close('all'); fig, ax = plt.subplots(1, 2, figsize=(10, 4), tight_layout=True);\n",
    "\n",
    "def update(sigma):\n",
    "    for ax_ in ax:\n",
    "        ax_.cla()\n",
    "        ax_.axis('off')\n",
    "    mask = 1e-8 + np.exp(-(((X-cx)/sigma)**2 + ((Y-cy)/sigma)**2))\n",
    "    im = ax[0].imshow(fftpack.fftshift(np.log(1+np.abs(S_img)))*mask)\n",
    "    im = ax[1].imshow(np.real(fftpack.ifft2(fftpack.ifftshift(fftpack.fftshift(S_img)*mask))))\n",
    "interact(update, sigma=FloatSlider_nice(min=1, max=200.0, value=200, description=\"$\\sigma$\"));"
   ]
  },
  {
   "cell_type": "markdown",
   "metadata": {
    "slideshow": {
     "slide_type": "slide"
    }
   },
   "source": [
    "## Filtro pasa-altos: Eliminando las frecuencias bajas"
   ]
  },
  {
   "cell_type": "code",
   "execution_count": null,
   "metadata": {
    "slideshow": {
     "slide_type": "fragment"
    }
   },
   "outputs": [],
   "source": [
    "plt.close('all'); fig, ax = plt.subplots(1, 2, figsize=(10, 4), tight_layout=True);\n",
    "\n",
    "def update(sigma=1):\n",
    "    for ax_ in ax:\n",
    "        ax_.cla()\n",
    "        ax_.axis('off')\n",
    "    mask = 1.0  - np.exp(-(((X-cx)/sigma)**2 + ((Y-cy)/sigma)**2)) \n",
    "    im = ax[0].imshow(fftpack.fftshift(np.log(1.0+np.abs(S_img)))*mask)\n",
    "    im = ax[1].imshow(np.real(fftpack.ifft2(fftpack.ifftshift(fftpack.fftshift(S_img)*mask))))\n",
    "interact(update, sigma=FloatSlider_nice(min=1, max=100.0, value=1, description=\"$\\sigma$\"));"
   ]
  },
  {
   "cell_type": "markdown",
   "metadata": {
    "slideshow": {
     "slide_type": "slide"
    }
   },
   "source": [
    "## Filtro pasa-banda y rechaza-banda"
   ]
  },
  {
   "cell_type": "code",
   "execution_count": null,
   "metadata": {
    "slideshow": {
     "slide_type": "fragment"
    }
   },
   "outputs": [],
   "source": [
    "plt.close('all'); fig, ax = plt.subplots(1, 2, figsize=(10, 4), tight_layout=True);\n",
    "\n",
    "def update(sigma1=1, sigma2=1):\n",
    "    for ax_ in ax:\n",
    "        ax_.cla()\n",
    "        ax_.axis('off')\n",
    "    mask1 = np.exp(-(((X-cx)/sigma1)**2 + ((Y-cy)/sigma1)**2)) \n",
    "    mask2 = np.exp(-(((X-cx)/sigma2)**2 + ((Y-cy)/sigma2)**2)) \n",
    "    im = ax[0].imshow(fftpack.fftshift(np.log(1.0+np.abs(S_img)))*(mask1-mask2))\n",
    "    im = ax[1].imshow(np.real(fftpack.ifft2(fftpack.ifftshift(fftpack.fftshift(S_img)*(mask1-mask2)))))\n",
    "interact(update, sigma1=FloatSlider_nice(min=1, max=200.0, value=200, description=\"$\\sigma_1$\"),\n",
    "        sigma2=FloatSlider_nice(min=1, max=200.0, value=1, description=\"$\\sigma_2$\"));"
   ]
  },
  {
   "cell_type": "markdown",
   "metadata": {
    "slideshow": {
     "slide_type": "slide"
    }
   },
   "source": [
    "## Filtros y convolucion 2D\n",
    "\n",
    "- ¿Cómo se ve una convolución en dos dimensiones?\n",
    "- El filtro de convolución es también llamado kernel\n",
    "\n",
    "<img src=\"images/filter2D_convolution.gif\" width=\"600\">\n"
   ]
  },
  {
   "cell_type": "markdown",
   "metadata": {
    "slideshow": {
     "slide_type": "fragment"
    }
   },
   "source": [
    "- ¿Qué hacen estos kernels/filtros?\n",
    "\n",
    "$$\n",
    "\\begin{pmatrix}\n",
    "1 & 1 & 1 & 1 & 1 \\\\\n",
    "1 & 1 & 1 & 1 & 1 \\\\\n",
    "1 & 1 & 1 & 1 & 1 \\\\\n",
    "1 & 1 & 1 & 1 & 1 \\\\\n",
    "1 & 1 & 1 & 1 & 1 \\\\\n",
    "\\end{pmatrix} \\frac{1}{25} \n",
    "\\qquad\n",
    "\\begin{pmatrix}\n",
    "0.018 & 0.082 & 0.1353 & 0.082 & 0.018 \\\\\n",
    "0.082 & 0.3678 & 0.6065 & 0.3678 & 0.082 \\\\\n",
    "0.1353 & 0.6065 & 1 & 0.6065 & 0.1353 \\\\\n",
    "0.082 & 0.3678 & 0.6065 & 0.3678 & 0.082 \\\\\n",
    "0.018 & 0.082 & 0.1353 & 0.082 & 0.018 \\\\\n",
    "\\end{pmatrix} \\frac{1}{\\sqrt{2\\pi}}\n",
    "$$\n",
    "\n",
    "\n"
   ]
  },
  {
   "cell_type": "code",
   "execution_count": null,
   "metadata": {
    "slideshow": {
     "slide_type": "fragment"
    }
   },
   "outputs": [],
   "source": [
    "from scipy.signal import fftconvolve, convolve2d\n",
    "\n",
    "plt.close('all'); fig, ax = plt.subplots(1, 2, figsize=(10, 4), tight_layout=True);\n",
    "\n",
    "def update(size=1):\n",
    "    for ax_ in ax:\n",
    "        ax_.cla()\n",
    "        ax_.axis('off')\n",
    "    kernel = np.ones(shape=(size, size))/size**2\n",
    "    img_filtered1 = fftconvolve(img_doge, kernel, mode='same');\n",
    "    img_filtered2 = convolve2d(img_doge, kernel, mode='same');\n",
    "    im = ax[0].imshow(img_filtered1)\n",
    "    im = ax[1].imshow(img_filtered2)\n",
    "interact(update, size=IntSlider_nice(min=1, max=100.0, value=1, description=\"Size\"));"
   ]
  },
  {
   "cell_type": "code",
   "execution_count": null,
   "metadata": {
    "slideshow": {
     "slide_type": "fragment"
    }
   },
   "outputs": [],
   "source": [
    "def update(size=1):\n",
    "    kernel = np.ones(shape=(size, size))/size**2\n",
    "    %time img_filtered1 = fftconvolve(img_doge, kernel, mode='same');\n",
    "    %time img_filtered2 = convolve2d(img_doge, kernel, mode='same');    \n",
    "interact(update, size=IntSlider_nice(min=1, max=100.0, value=1, description=\"Size\"));"
   ]
  },
  {
   "cell_type": "markdown",
   "metadata": {
    "slideshow": {
     "slide_type": "slide"
    }
   },
   "source": [
    "## Filtros y convolucion 2D\n",
    "\n",
    "- ¿Qué hacen estos filtros/kernels?\n",
    "- Se conocen como filtro sobel horizontal y vertical\n",
    "\n",
    "<img src=\"images/filtro_gradient.gif\" width=\"600\">"
   ]
  },
  {
   "cell_type": "code",
   "execution_count": null,
   "metadata": {
    "slideshow": {
     "slide_type": "fragment"
    }
   },
   "outputs": [],
   "source": [
    "fig = plt.figure(figsize=(12, 12))\n",
    "sobelx = fftconvolve(img_doge, [[-1, 0, 1],[-2, 0, 2], [-1, 0, 1]], mode='full')\n",
    "ax =  plt.subplot2grid((2, 2), (0, 0))\n",
    "ax.matshow(sobelx, cmap=plt.cm.Greys_r); ax.axis('off')\n",
    "sobely = fftconvolve(img_doge, [[-1, -2, -1],[0, 0, 0], [1, 2, 1]], mode='full')\n",
    "ax = plt.subplot2grid((2, 2), (0, 1))\n",
    "ax.matshow(sobely, cmap=plt.cm.Greys_r);ax.axis('off')\n",
    "ax = plt.subplot2grid((2, 2), (1, 0), colspan=2)\n",
    "ax.matshow(np.sqrt(sobely**2 + sobelx**2)[3:-3,3:-3], cmap=plt.cm.Greys_r); ax.axis('off');\n",
    "plt.tight_layout();"
   ]
  },
  {
   "cell_type": "markdown",
   "metadata": {
    "slideshow": {
     "slide_type": "slide"
    }
   },
   "source": [
    "## Ruido y restauración de imágenes\n",
    "\n",
    "Existen distintos tipos de ruido que pueden afectar una imagen\n",
    "\n",
    "- Ruido térmico, ruido de lectura, ruido eléctronico: Se modela tipicamente como ruido blanco Gaussiano\n",
    "- Ruido de disparo (shot noise): Ruido fotónico cuando hay pocas cuentas. Se modela como ruido Poissoniano\n",
    "- Ruido periódico: Ruido causado por interferencias\n",
    "- Ruido sal y pimienta: Ruido impulsivo que puede ocurrir por problemas de transmisión o conversión AD\n",
    "\n",
    "El filtrado en el espacio de frecuencias puede usarse para disminuir el ruido"
   ]
  },
  {
   "cell_type": "markdown",
   "metadata": {
    "slideshow": {
     "slide_type": "slide"
    }
   },
   "source": [
    "### Ejemplo: ruido blanco Gaussiano"
   ]
  },
  {
   "cell_type": "code",
   "execution_count": null,
   "metadata": {
    "slideshow": {
     "slide_type": "fragment"
    }
   },
   "outputs": [],
   "source": [
    "fig, ax = plt.subplots(figsize=(7, 5), tight_layout=True)\n",
    "def update(strengh):\n",
    "    ax.cla()\n",
    "    doge_corrupted = img_doge + strengh*np.random.randn(img_doge.shape[0], img_doge.shape[1])\n",
    "    ax.matshow(doge_corrupted); ax.axis('off')\n",
    "interact(update, strengh=FloatSlider_nice(min=1, max=100.0, value=0, description=\"Strengh\"));"
   ]
  },
  {
   "cell_type": "markdown",
   "metadata": {
    "slideshow": {
     "slide_type": "slide"
    }
   },
   "source": [
    "### Ejemplo: ruido periódico"
   ]
  },
  {
   "cell_type": "code",
   "execution_count": null,
   "metadata": {
    "slideshow": {
     "slide_type": "fragment"
    }
   },
   "outputs": [],
   "source": [
    "fig, ax = plt.subplots(figsize=(7, 5), tight_layout=True)\n",
    "\n",
    "def update(strengh, frequency):\n",
    "    ax.cla()\n",
    "    doge_corrupted = img_doge + strengh*np.cos(2.0*np.pi*frequency*Y/480)\n",
    "    ax.matshow(doge_corrupted); ax.axis('off')\n",
    "\n",
    "interact(update, strengh=FloatSlider_nice(min=1, max=100.0, value=50, description=\"Strengh\"),\n",
    "        frequency=FloatSlider_nice(min=0.0, max=80, step=0.01, value=0, description=\"Frequency\"));"
   ]
  },
  {
   "cell_type": "markdown",
   "metadata": {
    "slideshow": {
     "slide_type": "slide"
    }
   },
   "source": [
    "### Ruido impulsivo"
   ]
  },
  {
   "cell_type": "code",
   "execution_count": null,
   "metadata": {
    "slideshow": {
     "slide_type": "fragment"
    }
   },
   "outputs": [],
   "source": [
    "fig, ax = plt.subplots(figsize=(7, 5), tight_layout=True)\n",
    "\n",
    "def update(max_value):\n",
    "    ax.cla()\n",
    "    noise = np.random.randint(low=0, high=max_value, size=img_doge.shape)\n",
    "    doge_corrupted  = np.where(noise == 0, 0, img_doge)\n",
    "    doge_corrupted = np.where(noise == max_value-1, 255, doge_corrupted)\n",
    "    ax.matshow(doge_corrupted); ax.axis('off')\n",
    "\n",
    "interact(update, max_value=IntSlider_nice(min=1, max=255, value=255));"
   ]
  },
  {
   "cell_type": "markdown",
   "metadata": {
    "slideshow": {
     "slide_type": "slide"
    }
   },
   "source": [
    "### Ejemplo: Eliminando ruido periódico"
   ]
  },
  {
   "cell_type": "code",
   "execution_count": null,
   "metadata": {
    "slideshow": {
     "slide_type": "fragment"
    }
   },
   "outputs": [],
   "source": [
    "fig, ax = plt.subplots(2, 2, figsize=(10, 8), tight_layout=True);\n",
    "def update(frequency, size):\n",
    "    for ax_ in ax.ravel():\n",
    "        ax_.cla()\n",
    "        ax_.axis('off')\n",
    "    x = np.arange(0, img_doge.shape[1]); y = np.arange(0, img_doge.shape[0]);\n",
    "    X, Y = np.meshgrid(x, y)\n",
    "    periodic_noise = np.cos(2.0*np.pi*60*Y/480)\n",
    "    doge_corrupted = img_doge + 100*periodic_noise\n",
    "    ax[0, 0].matshow(doge_corrupted);\n",
    "    S_img = fftpack.fftshift(fftpack.fft2(doge_corrupted))\n",
    "    S_img[240-size-frequency:240+size-frequency, 320-size:320+size] = 0 \n",
    "    S_img[240-size+frequency:240+size+frequency, 320-size:320+size] = 0 \n",
    "    ax[0, 1].matshow(np.log(1+np.abs(S_img))[120:-120, 160:-160])\n",
    "    ax[1, 1].matshow(np.mean(img_doge) + np.abs(fftpack.ifft2(fftpack.ifftshift(S_img))),)\n",
    "\n",
    "interact(update, size=IntSlider_nice(min=1, max=20, value=10, description=\"Mask size\"),\n",
    "        frequency=IntSlider_nice(min=0.0, max=100, value=100, description=\"Mask position\"));"
   ]
  },
  {
   "cell_type": "markdown",
   "metadata": {
    "slideshow": {
     "slide_type": "slide"
    }
   },
   "source": [
    "Causas de degradación de calidad en imágenes\n",
    "- Manipulación: Desenfoque \n",
    "- Ambiente: Reflejos y dispersión de luz\n",
    "- Dispositivo: Ruido del sensor y circuitos\n",
    "- Ruido de cuantización\n",
    "\n",
    "\n",
    "## Restauración de imágenes y deconvolución\n",
    "\n",
    "- Una imagen observada $g(x,y)$ se puede modelar como\n",
    "\n",
    "$$\n",
    "g(x,y) =  f(x, y) * h(x, y) + n(x,y)\n",
    "$$\n",
    "\n",
    "donde $f(x,y)$ es la imagen original, $h(x,y)$ es la Point Spread Function (PSF) y $n(x,y)$ es ruido aditivo.\n",
    "\n",
    "La PSF:\n",
    "- es la respuesta al impulso del sistema capturador\n",
    "- modela las distorsiones provocadas por el dispositivo/ambiente a la imagen"
   ]
  },
  {
   "cell_type": "markdown",
   "metadata": {
    "slideshow": {
     "slide_type": "fragment"
    }
   },
   "source": [
    "### Ejemplo: PSF de un telescopio\n",
    "<table><tr><td>\n",
    "    <img src=\"images/psf3.png\" width=\"250\"></td><td><img src=\"images/PSF1.png\" width=\"550\">\n",
    "</td></tr></table>\n",
    "<center><img src=\"images/PSF2.jpeg\" width=\"600\"></center>\n"
   ]
  },
  {
   "cell_type": "markdown",
   "metadata": {
    "slideshow": {
     "slide_type": "fragment"
    }
   },
   "source": [
    "### Ejemplo: PSF de un microscopio\n",
    "\n",
    "<center><img src=\"images/deconv-microscope.png\" width=\"800\"></center>"
   ]
  },
  {
   "cell_type": "markdown",
   "metadata": {
    "slideshow": {
     "slide_type": "slide"
    }
   },
   "source": [
    "## Deconvolución\n",
    "\n",
    "- Deconvolución se refiere al proceso de recuperar $f(x,y)$ a partir de $g(x,y)$ usando supuestos sobre $h(x,y)$ y $n(x,y)$\n",
    "\n",
    "- Si trabajamos en frecuencia:\n",
    "\n",
    "$$\n",
    "G(f_1, f_2) = F(f_1, f_2) \\cdot H(f_1, f_2) + N(f_1, f_2)\n",
    "$$\n",
    "\n",
    "- Si conocemos $H$ e  ignoramos $N$ podemos estimar $F$ usando un **filtro inverso**\n",
    "\n",
    "$$\n",
    "\\hat F(f_1, f_2) = G(f_1, f_2) / H(f_1, f_2)\n",
    "$$\n",
    "\n",
    "- Problema resuelto?"
   ]
  },
  {
   "cell_type": "markdown",
   "metadata": {
    "slideshow": {
     "slide_type": "slide"
    }
   },
   "source": [
    "Sea una imagen como la siguiente"
   ]
  },
  {
   "cell_type": "code",
   "execution_count": null,
   "metadata": {
    "slideshow": {
     "slide_type": "fragment"
    }
   },
   "outputs": [],
   "source": [
    "img_seadoge = color2bw(plt.imread('images/lobo.jpg'))  \n",
    "plt.figure(figsize=(9, 6))\n",
    "plt.imshow(img_seadoge);"
   ]
  },
  {
   "cell_type": "markdown",
   "metadata": {
    "slideshow": {
     "slide_type": "fragment"
    }
   },
   "source": [
    "Asumamos que nuestro sistema de captura tiene una PSF Gaussiana con $\\sigma=2$ y ruido blanco Gaussiano con desviación estándar 20"
   ]
  },
  {
   "cell_type": "code",
   "execution_count": null,
   "metadata": {
    "slideshow": {
     "slide_type": "fragment"
    }
   },
   "outputs": [],
   "source": [
    "from scipy.signal import fftconvolve, convolve2d\n",
    "\n",
    "x = np.linspace(-5, 5, num=11)\n",
    "X, Y = np.meshgrid(x, x)\n",
    "sigma = 2\n",
    "psf = np.exp(-0.5*(X)**2/sigma**2 - 0.5*Y**2/sigma**2)/(2.0*np.pi*sigma**2)\n",
    "\n",
    "img_seadoge_observed = fftconvolve(img_seadoge, psf, mode='same') \\\n",
    "+ 20*np.random.randn(img_seadoge.shape[0], img_seadoge.shape[1])\n",
    "img_min, img_max = np.amin(img_seadoge_observed), np.amax(img_seadoge_observed)\n",
    "img_seadoge_observed = 255*(img_seadoge_observed - img_min)/(img_max - img_min)\n",
    "\n",
    "plt.figure(figsize=(9, 6))\n",
    "plt.imshow(img_seadoge_observed);"
   ]
  },
  {
   "cell_type": "markdown",
   "metadata": {
    "slideshow": {
     "slide_type": "slide"
    }
   },
   "source": [
    "- Hay que tener cuidado al invertir valores cercanos a cero"
   ]
  },
  {
   "cell_type": "code",
   "execution_count": null,
   "metadata": {
    "slideshow": {
     "slide_type": "fragment"
    }
   },
   "outputs": [],
   "source": [
    "from mpl_toolkits.mplot3d import Axes3D\n",
    "fig, ax = plt.subplots(2, 2, figsize=(10, 7), tight_layout=True);\n",
    "\n",
    "def update(sigma, tol):\n",
    "    for ax_ in ax.ravel():\n",
    "        ax_.cla(); ax_.axis('off');        \n",
    "    ax[0, 0].matshow(img_seadoge_observed);\n",
    "    S_img = fftpack.fft2(img_seadoge_observed/255)\n",
    "    ax[0, 1].matshow(fftpack.fftshift(np.log(1.0+np.abs(S_img)))); \n",
    "    fx, fy = fftpack.fftfreq(n=1000, d=1), fftpack.fftfreq(n=600, d=1)\n",
    "    Fx, Fy = np.meshgrid(fx, fy)    \n",
    "    inv_psf =  1.0/np.exp(-2*np.pi**2*(Fx**2 + Fy**2)*sigma**2)\n",
    "    inv_psf[inv_psf > 1.0/10**tol] = 0.0\n",
    "    ax[1, 0].matshow(fftpack.fftshift(inv_psf)); \n",
    "    WF = S_img*inv_psf; \n",
    "    ax[1, 1].matshow(np.real(fftpack.ifft2(WF))); \n",
    "    \n",
    "interact(update, sigma=FloatSlider_nice(min=0.1, max=10.0, value=0.1, description=\"$\\sigma$\"),\n",
    "        tol=FloatSlider_nice(min=-3, max=-0.1, value=-5, description=\"log(tolerance)\"));"
   ]
  },
  {
   "cell_type": "markdown",
   "metadata": {
    "slideshow": {
     "slide_type": "fragment"
    }
   },
   "source": [
    "- El filtro inverso es difícil de calibrar\n",
    "- Fenomeno de ampligicación de ruido\n",
    "<img src=\"images/noise-amplification.png\">\n",
    "\n",
    " "
   ]
  },
  {
   "cell_type": "markdown",
   "metadata": {
    "slideshow": {
     "slide_type": "slide"
    }
   },
   "source": [
    "## Filtro de Wiener\n",
    "\n",
    "Sea un filtro lineal para estimar la imagen real a partir de la imagen observada\n",
    "\n",
    "$$\n",
    "\\hat f(x, y) = w(x,y) * g(x, y)\n",
    "$$\n",
    "\n",
    "Podemos buscar $w$ tal que el MSE sea mínimo:\n",
    "$$\n",
    "\\text{MSE} = \\mathbb{E} \\left[ \\left(f(x,y) - \\hat f(x,y) \\right)^2 \\right]\n",
    "$$\n",
    "\n",
    "Podemos resolver la solución en frecuencia y obtener (asumiendo N ruido de media cero)\n",
    "$$\n",
    "W(f_1, f_2) = \\frac{H(f_1, f_2)^{*}}{|H(f_1, f_2)|^2 + \\frac{S_n(f_1, f_2)}{S_f(f_1, f_2)}},\n",
    "$$\n",
    "donde $S_n = |N(f_1, f_2)|^2$ es la densidad espectral del ruido y $S_f = |F(f_1, f_2)|^2$ es la densidad espectral de la señal original.\n",
    "\n",
    "- En general no conocemos las densidades espectral de potenica\n",
    "- El factor $S_f/S_n$ se puede interpretar como la razón señal a ruido (SNR)\n",
    "- Podemos hacer supuestos sobre la SNR\n",
    "\n",
    "Notemos también que si $S_n \\to 0$ se recupera el filtro inverso\n",
    "\n",
    "<img src=\"images/wiener-noise.png\">\n"
   ]
  },
  {
   "cell_type": "code",
   "execution_count": null,
   "metadata": {
    "slideshow": {
     "slide_type": "fragment"
    }
   },
   "outputs": [],
   "source": [
    "fig, ax = plt.subplots(2, 2, figsize=(12, 8), tight_layout=True);\n",
    "\n",
    "def update(K):\n",
    "    for ax_ in ax.ravel():\n",
    "        ax_.cla(); ax_.axis('off')\n",
    "    ax[0, 0].matshow(img_seadoge_observed)\n",
    "    fx, fy = fftpack.fftfreq(n=1000, d=1), fftpack.fftfreq(n=600, d=1)\n",
    "    Fx, Fy = np.meshgrid(fx, fy)\n",
    "    inv_psf =  np.exp(-2*np.pi**2*(Fx**2 + Fy**2)*2**2)\n",
    "    #inv_psf[inv_psf > 1.0/tol] = 0.0\n",
    "    S_img = fftpack.fft2(img_seadoge_observed/255)\n",
    "    WF = np.conj(inv_psf)/(np.abs(inv_psf)**2 + 10**K)\n",
    "    ax[0, 1].matshow(fftpack.fftshift(np.abs(WF)))\n",
    "    ax[1, 0].matshow(np.abs(fftpack.ifft2(S_img*WF)));\n",
    "    ax[1, 1].matshow(np.abs(fftpack.ifft2(S_img*WF))[80:250, 240:440]);\n",
    "    \n",
    "interact(update, K=FloatSlider_nice(min=-5, max=5, value=0, description=\"K=Sn/Sf (logscale)\"));"
   ]
  },
  {
   "cell_type": "code",
   "execution_count": null,
   "metadata": {
    "slideshow": {
     "slide_type": "slide"
    }
   },
   "outputs": [],
   "source": [
    "from skimage.restoration import wiener\n",
    "\n",
    "fig, ax = plt.subplots(2, 2, figsize=(10, 6.5), tight_layout=True);\n",
    "\n",
    "def update(balance):\n",
    "    for ax_ in ax.ravel():\n",
    "        ax_.cla(); ax_.axis('off')\n",
    "    img_seadoge_recovered = wiener(img_seadoge_observed/255.0, \n",
    "                                   psf=psf, balance=10**balance)\n",
    "    ax[0,0].matshow(img_seadoge_observed)\n",
    "    ax[0,1].matshow(img_seadoge_observed[80:250, 240:440])\n",
    "    ax[1,0].matshow(img_seadoge_recovered)\n",
    "    ax[1,1].matshow(img_seadoge_recovered[80:250, 240:440]);\n",
    "    \n",
    "interact(update, balance=FloatSlider_nice(min=-5, max=5, value=0, \n",
    "                                          description=\"Regularizacion\"));"
   ]
  },
  {
   "cell_type": "code",
   "execution_count": null,
   "metadata": {
    "slideshow": {
     "slide_type": "fragment"
    }
   },
   "outputs": [],
   "source": [
    "from skimage.restoration import unsupervised_wiener\n",
    "\n",
    "fig, ax = plt.subplots(2, figsize=(7, 8), tight_layout=True);\n",
    "img_seadoge_recovered = unsupervised_wiener(img_seadoge_observed/255.0, psf=psf)[0]\n",
    "ax[0].matshow(img_seadoge_observed); ax[0].axis('off')\n",
    "ax[1].matshow(img_seadoge_recovered); ax[1].axis('off');"
   ]
  }
 ],
 "metadata": {
  "celltoolbar": "Slideshow",
  "kernelspec": {
   "display_name": "Python 3",
   "language": "python",
   "name": "python3"
  },
  "language_info": {
   "codemirror_mode": {
    "name": "ipython",
    "version": 3
   },
   "file_extension": ".py",
   "mimetype": "text/x-python",
   "name": "python",
   "nbconvert_exporter": "python",
   "pygments_lexer": "ipython3",
   "version": "3.7.2"
  }
 },
 "nbformat": 4,
 "nbformat_minor": 2
}
