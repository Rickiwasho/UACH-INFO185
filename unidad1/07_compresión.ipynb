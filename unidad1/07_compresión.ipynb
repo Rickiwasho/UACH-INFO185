{
 "cells": [
  {
   "cell_type": "markdown",
   "metadata": {},
   "source": [
    "# Compresión de imágenes\n",
    "\n",
    "## Contenidos\n",
    "- Esquema transmisor de datos\n",
    "- Compresión de imágenes usando JPEG\n",
    "- Transformada coseno\n",
    "- Cuantización escalar y vectorial\n"
   ]
  },
  {
   "cell_type": "markdown",
   "metadata": {},
   "source": [
    "## Ancho de banda de un video\n",
    "\n",
    "> ¿Cúanto pesa una imagen RGB de 1920x1080?\n",
    "\n",
    "<center>1920 1080 3 size(uint8) = 49.766.400 b ~ 50 Mb</center>\n",
    "\n",
    "Tradicionalmente un video es una secuencia de imágenes a 24 cuadros por segundo (fps)\n",
    "\n",
    "\n",
    "> ¿Cuánto ancho de banda se necesita para ver una película en tiempo real?\n",
    "\n",
    "<center>50Mb  24 fps = 1200 Mb/s = 1.2 Gb/s</center>\n",
    "\n",
    "Este ancho de banda es infactible \n",
    "\n",
    "> ¿Cómo pueden entonces funcionar los servicios de streaming?"
   ]
  },
  {
   "cell_type": "markdown",
   "metadata": {},
   "source": [
    "## Compresión \n",
    "\n",
    "- Codificar la información usando \"menos bits\" que la representación original\n",
    "- La compresión puede ser de tipo\n",
    "    - *Lossless* (sin pérdidas): Los datos originales pueden reconstruirse perfectamente\n",
    "    - *Lossy* (con pérdidas): Se reconstruye una versión aproximada de los datos originales\n",
    "\n",
    "\n"
   ]
  },
  {
   "cell_type": "markdown",
   "metadata": {},
   "source": [
    "Recordemos el modelo de Shannon\n",
    "\n",
    "<img src=\"../images/shannon-diagram.svg\" width=\"500\">\n",
    "\n",
    "\n",
    "Podemos hacer un modelo más detallado para el **transmisor** como\n",
    "\n",
    "<img src=\"../images/transmitter.svg\" width=\"600\">\n",
    "\n",
    "donde\n",
    "\n",
    "\n",
    "- **Transformación:** Cambia la representación de los datos para eliminar redundancia/correlaciones \n",
    "- **Cuantización:** Escoge un número fijo de valores representativos (diccionario), es decir acorta el \"largo de palabra\" de los datos\n",
    "    - Largo de palabra: Cantidad de bits necesaria para representar un símbolo de código\n",
    "    - Diccionario o alfabeto: Conjunto de símbolos o palabras\n",
    "- **Codificación de fuente:** Convierte el diccionario fijo del cuantizador en un código de largo variable, que es más eficiente de transmitir\n",
    "- **Codificación de canal:** Se encarga de \"robustecer\" el resultado anterior para que sobreviva la transmisión digital (parity, checksum)"
   ]
  },
  {
   "cell_type": "markdown",
   "metadata": {},
   "source": [
    "## Compresión de imágenes\n",
    "\n",
    "- Una imagen se puede proyectar al espacio de frecuencias sin pérdida de información\n",
    "- En general vimos que la información se concentra en el centro del espectro\n",
    "- Las tres redundancias:\n",
    "    -  **Redundancia interpixel (transformación)** Alta correlación entre píxeles vecinos \n",
    "    - **Redundancia psicovisual (cuantización):** El ojo humano no puede resolver más de 32 niveles de grises:\n",
    "    - **Redundancia de codificación:** Algunos tonos son más comunes que otros \n",
    " \n",
    "\n",
    "¿Cómo explotamos esto para reducir el tamaño de una imagen?"
   ]
  },
  {
   "cell_type": "markdown",
   "metadata": {},
   "source": [
    "##  Ejemplo: Joint Photographic Experts Group (JPEG)\n",
    "\n",
    "- Formato ampliamente usado para distribuir imágenes digitales\n",
    "- Es un algoritmo de compresión con pérdidas para imágenes (lossy)\n",
    "- Explota las siguientes características del sistema visual humano\n",
    "    - Somos más sensibles a la iluminación que al color\n",
    "    - Somos menos sensibles a los componentes de alta frecuencia\n",
    "- Más componentes descartados: mayor compresión, y peor la calidad\n",
    "\n",
    "\n",
    "Algoritmo:\n",
    "1. Paso preliminar: RGB a YCbCr (y downsampling 4:2:2)\n",
    "1. Transformación con **Discrete Cosine Transform** (DCT) en bloques de 8x8 sin traslape\n",
    "1. Cuantización escalar\n",
    "1. Codificación de Huffman\n"
   ]
  },
  {
   "cell_type": "code",
   "execution_count": null,
   "metadata": {},
   "outputs": [],
   "source": [
    "plt.close(); fig, ax = plt.subplots(figsize=(9, 5), tight_layout=True)\n",
    "\n",
    "def update(q_Y, q_C):\n",
    "    ax.cla(); ax.axis('off')\n",
    "    Y = np.round(np.dot(dogo_color, [0.299, 0.587, 0.114])*q_Y/255.0)*255.0/q_Y\n",
    "    C_b = 128+np.round(np.dot(dogo_color, [-0.168736, -0.3312, 0.5])*q_C/255.0)*255.0/q_C\n",
    "    C_r = 128+np.round(np.dot(dogo_color, [0.5, -0.4186, -0.0813])*q_C/255.0)*255.0/q_C\n",
    "    rgb = np.zeros(shape=(Y.shape[0], Y.shape[1], 3))\n",
    "    rgb[:,:,0] = Y + 1.402 * (C_r-128)\n",
    "    rgb[:,:,1] = Y - .34414 * (C_b-128) - .71414 * (C_r-128)\n",
    "    rgb[:,:,2] = Y + 1.772 * (C_b-128)\n",
    "    np.putmask(rgb, rgb > 255, 255);\n",
    "    np.putmask(rgb, rgb < 0, 0);    \n",
    "    ax.imshow(np.uint8(rgb));\n",
    "   \n",
    "interact(update, q_Y=SelectionSlider_nice(options=[1, 2, 4, 8, 16, 32, 64, 128], value=128, description=\"Niveles de Y\"),\n",
    "         q_C=SelectionSlider_nice(options=[1, 2, 4, 8, 16, 32, 64, 128], value=128, description=\"Niveles de C\"));"
   ]
  },
  {
   "cell_type": "markdown",
   "metadata": {},
   "source": [
    "## Discrete Cosine Transform (DCT)\n",
    "\n",
    "Sea una señal discreta y bidimensional $g[n_1, n_2]$ con índices $n_1 \\in [0, N_1-1]$ y $n_2 \\in [0, N_2-1]$ su DCT es \n",
    "\n",
    "$$\n",
    "G_C[k_1, k_2] = \\sum_{n_1=0}^{N_1-1} \\sum_{n_2=0}^{N_2-1} 4 g[n_1, n_2] \\cos \\left ( \\frac{\\pi k_1}{2N_1}(2n_1+1)  \\right) \\cos \\left ( \\frac{\\pi k_2}{2N_2}(2n_2+1)  \\right) \n",
    "$$\n",
    "y su inversa\n",
    "\n",
    "$$\n",
    "g[n_1, n_2] = \\frac{1}{N_1 N_2}\\sum_{k_1=0}^{N_1-1} \\sum_{k_2=0}^{N_2-1} w[k_1]w[k_2]G[k_1, k_2] \\cos \\left ( \\frac{\\pi k_1}{2N_1}(2n_1+1)  \\right) \\cos \\left ( \\frac{\\pi k_2}{2N_2}(2n_2+1)  \\right), \n",
    "$$\n",
    "\n",
    "donde \n",
    "$$\n",
    "w[k] =\\begin{cases}\n",
    "1/2 & \\text{ssi} ~~ k=0\\\\\n",
    "1 & \\text{ssi} ~~ k \\neq 0\n",
    "\\end{cases} \n",
    "$$\n",
    "\n",
    "La DCT bidimensional:\n",
    "- es lineal, y cumple el principio de conservación de energía\n",
    "- se puede descomponer en 2 aplicaciones de la DCT 1D\n",
    "- es equivalente a la DFT de una señal \"simetricamente extendida\":\n",
    "\n",
    "$$\n",
    "y[k] =\\begin{cases}\n",
    "x[k] & \\text{ssi} ~~ k<N\\\\\n",
    "x[2N-1-k] & \\text{ssi} ~~ N \\leq k < 2N - 1 \n",
    "\\end{cases} \n",
    "$$\n",
    "- Es decir que podemos usar el algoritmo FFT para calcular eficientemente la DCT\n",
    "\n",
    "**Ojo:** La convolución en espacio original no es multiplicación en el espacio DCT\n"
   ]
  },
  {
   "cell_type": "markdown",
   "metadata": {},
   "source": [
    "La base de la DCT:"
   ]
  },
  {
   "cell_type": "code",
   "execution_count": null,
   "metadata": {},
   "outputs": [],
   "source": [
    "x = np.arange(0, 32, step=1)\n",
    "X, Y = np.meshgrid(x, x)\n",
    "fig, ax = plt.subplots(8, 8, figsize=(9, 8), tight_layout=False)\n",
    "fig.subplots_adjust(left=0.05, right=0.95, top=0.95, bottom=0.05)\n",
    "for n in range(ax.shape[0]):\n",
    "    for m in range(ax.shape[1]):\n",
    "        cos_x = np.cos(np.pi*(2*X+1)*m/(2*len(x)))\n",
    "        cos_y = np.cos(np.pi*(2*Y+1)*n/(2*len(x)))\n",
    "        ax[n, m].matshow(cos_x*cos_y, cmap=plt.cm.RdBu_r, vmin=-1, vmax=1)\n",
    "        ax[n, m].axis('off')\n"
   ]
  },
  {
   "cell_type": "markdown",
   "metadata": {},
   "source": [
    "### Ejemplo: Transformación de una imagen usando DCT en bloques de 8x8"
   ]
  },
  {
   "cell_type": "code",
   "execution_count": null,
   "metadata": {},
   "outputs": [],
   "source": [
    "img_seadoge = color2bw(plt.imread('images/lobo.jpg'))  \n",
    "fig, ax = plt.subplots(figsize=(9, 6)); ax.axis('off')\n",
    "ax.imshow(img_seadoge, cmap=plt.cm.Greys_r);"
   ]
  },
  {
   "cell_type": "code",
   "execution_count": null,
   "metadata": {},
   "outputs": [],
   "source": [
    "DCT2 = lambda g, norm='ortho': fftpack.dct( fftpack.dct(g, axis=0, norm=norm), axis=1, norm=norm)\n",
    "IDCT2 = lambda G, norm='ortho': fftpack.idct( fftpack.idct(G, axis=0, norm=norm), axis=1, norm=norm)\n",
    "\n",
    "imsize = img_seadoge.shape\n",
    "dct_matrix = np.zeros(shape=imsize)\n",
    "dft_matrix = np.zeros(shape=imsize, dtype=np.complex128)\n",
    "\n",
    "for i in range(0, imsize[0], 8):\n",
    "    for j in range(0, imsize[1], 8):\n",
    "        dct_matrix[i:(i+8),j:(j+8)] = DCT2( img_seadoge[i:(i+8),j:(j+8)] )\n",
    "        dft_matrix[i:(i+8),j:(j+8)] = fftpack.fft2( img_seadoge[i:(i+8),j:(j+8)] )  \n"
   ]
  },
  {
   "cell_type": "markdown",
   "metadata": {},
   "source": [
    "¿Cómo se ven uno a uno la DCT de los bloques?"
   ]
  },
  {
   "cell_type": "code",
   "execution_count": null,
   "metadata": {},
   "outputs": [],
   "source": [
    "fig, ax = plt.subplots(1, 2, figsize=(10, 5), tight_layout=True)\n",
    "\n",
    "def plot_values(ax, tile, fontsize=16):\n",
    "    for i in range(8):\n",
    "        for j in range(8):\n",
    "            label = tile[i, j]\n",
    "            ax.text(i, j, int(label), fontsize=fontsize, \n",
    "                    color='black', ha='center', va='center')\n",
    "            \n",
    "def update(block_idx=1):\n",
    "    for ax_ in ax:\n",
    "        ax_.cla(); ax_.axis('off')\n",
    "    tile = img_seadoge[8*block_idx:8*block_idx+8, 8*block_idx:8*block_idx+8]\n",
    "    ax[0].imshow(tile, cmap=plt.cm.Greys_r, \n",
    "                 vmin=img_seadoge.min(), vmax=img_seadoge.max())\n",
    "    ax[0].set_title(\"%d 8x8 image block\" %(block_idx)); \n",
    "    plot_values(ax[0], tile)\n",
    "    tile = dct_matrix[8*block_idx:8*block_idx+8, 8*block_idx:8*block_idx+8]\n",
    "    ax[1].imshow(tile, cmap=plt.cm.Greys_r, \n",
    "                 vmin=dct_matrix.min(), vmax=dct_matrix.max())\n",
    "    ax[1].set_title(\"8x8 DCT\")\n",
    "    plot_values(ax[1], tile)\n",
    "\n",
    "interact(update, block_idx=IntSlider_nice(min=0, max=100, value=0, \n",
    "                                          description=\"Bloque\"));"
   ]
  },
  {
   "cell_type": "markdown",
   "metadata": {},
   "source": [
    "¿Cómo se ven los bloques de la DCT si los concatenamos?"
   ]
  },
  {
   "cell_type": "code",
   "execution_count": null,
   "metadata": {},
   "outputs": [],
   "source": [
    "plt.close(); \n",
    "fig, ax = plt.subplots(figsize=(10, 7), tight_layout=True)\n",
    "ax.axis('off')\n",
    "ax.matshow(dct_matrix, cmap=plt.cm.Greys_r, vmin=0, vmax=50);"
   ]
  },
  {
   "cell_type": "markdown",
   "metadata": {},
   "source": [
    "Comparemos ahora la DFT y DCT en términos de reconstrucción con pérdidas"
   ]
  },
  {
   "cell_type": "code",
   "execution_count": null,
   "metadata": {},
   "outputs": [],
   "source": [
    "fig, ax = plt.subplots(2, 2, figsize=(10, 6), tight_layout=False)\n",
    "fig.subplots_adjust(left=0.01, right=0.99, top=0.94, bottom=0.01)\n",
    "def update(percent):\n",
    "    for ax_ in ax.ravel():\n",
    "        ax_.cla(); ax_.axis('off')\n",
    "    imsize = img_seadoge.shape\n",
    "    Npixels = imsize[0]*imsize[1]\n",
    "    im_dct, im_dft = np.zeros(imsize), np.zeros(imsize)\n",
    "    I = np.unravel_index(np.argsort(np.absolute(dct_matrix), axis=None)[::-1], \n",
    "                         dct_matrix.shape)\n",
    "    dct_thresh = dct_matrix.copy()\n",
    "    dct_thresh[I[0][int(Npixels*percent/100):], \n",
    "               I[1][int(Npixels*percent/100):]] = 0\n",
    "    I = np.unravel_index(np.argsort(np.absolute(dft_matrix), axis=None)[::-1], \n",
    "                         dft_matrix.shape)\n",
    "    dft_thresh = dft_matrix.copy()\n",
    "    dft_thresh[I[0][int(Npixels*percent/100):], \n",
    "               I[1][int(Npixels*percent/100):]] = 0\n",
    "    for i in range(0, imsize[0], 8):\n",
    "        for j in range(0, imsize[1], 8):\n",
    "            im_dct[i:(i+8),j:(j+8)] = IDCT2( dct_thresh[i:(i+8),j:(j+8)] )\n",
    "            im_dft[i:(i+8),j:(j+8)] = np.real(fftpack.ifft2( dft_thresh[i:(i+8),j:(j+8)] ))\n",
    "    \n",
    "    ax[0, 0].imshow(im_dft, cmap=plt.cm.Greys_r); \n",
    "    ax[0, 0].set_title(\"DFT\")\n",
    "    ax[1, 0].imshow(im_dft[200:400, 250:600], cmap=plt.cm.Greys_r); \n",
    "    ax[0, 1].imshow(im_dct, cmap=plt.cm.Greys_r); \n",
    "    ax[0, 1].set_title(\"DCT\")\n",
    "    ax[1, 1].imshow(im_dct[200:400, 250:600], cmap=plt.cm.Greys_r); \n",
    "    \n",
    "interact(update, percent=SelectionSlider_nice(options=[1., 2.5, 5., 7.5, 10., 20], value=20,\n",
    "                                          description=\"Porcentaje de componentes retenidos\"));"
   ]
  },
  {
   "cell_type": "markdown",
   "metadata": {},
   "source": [
    "La DCT es equivalente a la DFT de la imagen simetricamente extendida:"
   ]
  },
  {
   "cell_type": "code",
   "execution_count": null,
   "metadata": {},
   "outputs": [],
   "source": [
    "img_seadogo_sym = np.hstack((img_seadoge, np.fliplr(img_seadoge)))\n",
    "img_seadogo_sym = np.vstack((np.flipud(img_seadogo_sym), img_seadogo_sym))\n",
    "fig, ax = plt.subplots(figsize=(10, 6))\n",
    "ax.axis('off')\n",
    "ax.imshow(img_seadogo_sym, cmap=plt.cm.Greys_r);"
   ]
  },
  {
   "cell_type": "markdown",
   "metadata": {},
   "source": [
    "- DCT y efectos de borde\n",
    "- optimalidad en termines de aproximacion a transformacion KL\n",
    "- optimalidad en terminos de señal markoviana con correlacion positiva"
   ]
  },
  {
   "cell_type": "markdown",
   "metadata": {},
   "source": [
    "## Cuantización escalar\n",
    "\n",
    "- Objetivo: Atacar la redundancia psicovisual\n",
    "- Es una operación de redondeo/truncamiento\n",
    "- Se define por: \n",
    "    - número de niveles $L$, \n",
    "    - fronteras de decisión $d_i$ \n",
    "    - valor de las representaciones $r_i$\n",
    "$$\n",
    "\\begin{equation}\n",
    "    Q(x)=\n",
    "    \\begin{cases}\n",
    "      r_1, & d_0 < x \\leq d_1 \\\\\n",
    "      \\vdots & \\vdots \\\\\n",
    "      r_i, & d_{i-1} < x \\leq d_i \\\\\n",
    "      \\vdots & \\vdots \\\\\n",
    "      r_L, & d_{L-1} < x \\leq d_L\n",
    "    \\end{cases}\n",
    "\\end{equation}\n",
    "$$\n",
    "\n",
    "#### Ejemplo: Cuantización uniforme\n",
    "\n",
    "Sea un rango de valores en $[-V, V]$, una cuantización uniforme de $L$ niveles sería\n",
    "\n",
    "$$\n",
    "d_0 = -V, d_{L} = V\n",
    "$$\n",
    "La separación entre niveles es fija\n",
    "$$\n",
    "d_{i} = d_{i-1} + \\Delta  = d_0 + i \\Delta = - V + i \\frac{2V}{L}\n",
    "$$\n",
    "y el valor de representación es el punto medio de cada nivel\n",
    "$$\n",
    "r_i = \\frac{1}{2} (d_i + d_{i-1}) = -V + (2i-1) \\frac{2V}{L}\n",
    "$$ \n",
    " \n",
    "\n",
    "\n",
    "### Error de cuantización\n",
    "\n",
    "Es la distancia entre el valor real y su versión cuantizada\n",
    "$$\n",
    "d_c = \\|Q(x) -x\\| \n",
    "$$"
   ]
  },
  {
   "cell_type": "markdown",
   "metadata": {},
   "source": [
    "## Cuantización vectorial\n",
    "\n",
    "Es la extensión del caso anterior a datos multidimensionales, por ejemplo píxeles en formato RGB\n",
    "\n",
    "- Sea un conjunto de datos N-dimensionales $\\{x_1, x_2, \\ldots, x_N\\}$ con $x_i \\in \\mathbb{R}^D$\n",
    "- Se busca un conjunto reducido de prototipos $\\{r_1, r_2, \\ldots, r_L\\}$ donde $L < N$\n",
    "- La función de cuantización es $Q(x) = r_k$ donde $k = \\text{arg}\\min_i \\|x - r_i\\|$\n",
    "- Hay que definir una métrica de distancia (*e.g* norma L2)\n",
    "\n",
    "Los prototipos pueden\n",
    "- ser fijos y estar guardados (look-up table)\n",
    "- construirse en base a una regla simple (cubos uniformes)\n",
    "- seleccionar adaptivamente usando el\n",
    "\n",
    "### Algoritmo *Learning Vector Quantization* (LVQ)\n",
    "1. Definir una función de distancia\n",
    "1. Inicializar con prototipos aleatorios\n",
    "1. Asignar los datos a su prototipo más cercano \n",
    "1. Actualizar los prototipos como el valor medio de sus datos asignados\n",
    "1. Volver al paso 3 hasta converger\n",
    "\n",
    "Si se usa norma euclidiana (L2) \n",
    "$$\n",
    "\\|x - r_i \\|_2 = \\sqrt{ \\sum_{d=1}^D (x[d] - r_i[d])^2 }\n",
    "$$\n",
    "se obtiene el famoso algoritmo *K-means*\n",
    "\n",
    "<center><img src=\"images/kmeans.gif\" width=\"600\"></center>\n"
   ]
  },
  {
   "cell_type": "code",
   "execution_count": null,
   "metadata": {},
   "outputs": [],
   "source": [
    "from scipy.cluster.vq import vq\n",
    "from sklearn.cluster import KMeans\n",
    "img_color = plt.imread(\"images/atardecer.jpg\")\n",
    "img_pixels = np.reshape(img_color, (-1, 3))\n",
    "kmeans = KMeans(n_clusters=10).fit(np.float32(img_pixels)) \n",
    "centroids = kmeans.cluster_centers_\n",
    "qnt,_ = vq(np.float32(img_pixels), centroids)\n",
    "centers_idx = np.reshape(qnt, (img_color.shape[0], img_color.shape[1]))\n",
    "clustered = np.uint8(centroids[centers_idx])\n",
    "\n",
    "fig, ax = plt.subplots(1, 2, figsize=(9, 4), tight_layout=False)\n",
    "fig.subplots_adjust(left=0.01, right=0.99, top=0.99, bottom=0.01)\n",
    "ax[0].imshow(img_color); ax[0].axis('off');\n",
    "ax[1].imshow(clustered); ax[1].axis('off');"
   ]
  },
  {
   "cell_type": "code",
   "execution_count": null,
   "metadata": {},
   "outputs": [],
   "source": [
    "from mpl_toolkits.mplot3d import Axes3D\n",
    "fig = plt.figure(figsize=((7, 5)))\n",
    "ax = fig.gca(projection='3d')\n",
    "ax.scatter(centroids[:, 0], centroids[:, 1], centroids[:, 2], \n",
    "           c=centroids/255., s=500);\n",
    "ax.scatter(img_pixels[:, 0], img_pixels[:, 1], img_pixels[:, 2], \n",
    "           c=img_pixels/255., s=1, alpha=0.01);\n",
    "ax.set_xlim([0, 255]); ax.set_ylim([0, 255]); ax.set_zlim([0, 255]);"
   ]
  },
  {
   "cell_type": "markdown",
   "metadata": {},
   "source": [
    "## Cuantización en JPEG\n",
    "\n",
    "- JPEG cuantiza en el espacio de frecuencia\n",
    "- Se cuantizan los bloques de 8x8 componentes DCT \n",
    "- El nivel de los componentes se redondea según una matriz de cuantización Q\n",
    "- Q fue diseñada tal que componentes de alta frecuencia se cuantizan en menos niveles\n",
    "- El bloque cuantizado se obtiene como $\\text{ROUND}\\left(\\frac{G_C}{Q}\\right)$"
   ]
  },
  {
   "cell_type": "code",
   "execution_count": null,
   "metadata": {},
   "outputs": [],
   "source": [
    "Q = np.array([[16, 11, 10, 16, 24, 40, 51, 61],[12, 12, 14, 19, 26, 58, 60, 55],\n",
    "              [14, 13, 16, 24, 40, 57, 69, 56],[14, 17, 22, 29, 51, 87, 80, 62],\n",
    "              [18, 22, 37, 56, 68, 109, 103, 77],[24, 35, 55, 64, 81, 104, 113, 92],\n",
    "              [49, 64, 78, 87, 103, 121, 120, 101],[72, 92, 95, 98, 112, 100, 103, 99]])\n",
    "\n",
    "\n",
    "fig, ax = plt.subplots(1, 3, figsize=(10, 4), tight_layout=True)\n",
    "def update(block_idx=1):\n",
    "    for ax_ in ax:\n",
    "        ax_.cla(); ax_.axis('off')\n",
    "    tile = img_seadoge[8*block_idx:8*block_idx+8, 8*block_idx:8*block_idx+8]\n",
    "    ax[0].imshow(tile, cmap=plt.cm.Greys_r)\n",
    "    ax[0].set_title(\"8x8 %d'th block\" %(block_idx)); \n",
    "    plot_values(ax[0], tile, fontsize=12)\n",
    "    tile = dct_matrix[8*block_idx:8*block_idx+8, 8*block_idx:8*block_idx+8]\n",
    "    ax[1].imshow(tile, cmap=plt.cm.Greys_r)\n",
    "    ax[1].set_title(\"8x8 DCT\\n %d nonzero\" %(np.count_nonzero(tile))); \n",
    "    plot_values(ax[1], tile, fontsize=12)\n",
    "    quant = np.round(tile/Q)\n",
    "    ax[2].imshow(quant, cmap=plt.cm.Greys_r)\n",
    "    ax[2].set_title(\"8x8 Quantized\\n%d nonzero\" %(np.count_nonzero(quant))); \n",
    "    plot_values(ax[2], quant, fontsize=12)\n",
    "\n",
    "interact(update, block_idx=IntSlider_nice(min=0, max=100, value=0, description=\"Block tile\"));"
   ]
  },
  {
   "cell_type": "code",
   "execution_count": null,
   "metadata": {},
   "outputs": [],
   "source": [
    "area = img_seadoge.shape[0]*img_seadoge.shape[1]\n",
    "fig, ax = plt.subplots(1, 2, figsize=(10, 4), tight_layout=False)\n",
    "fig.subplots_adjust(left=0.01, right=0.99, top=0.94, bottom=0.01)\n",
    "\n",
    "def update(percent):\n",
    "    for ax_ in ax.ravel():\n",
    "        ax_.cla(); ax_.axis('off')\n",
    "    im_dct = np.zeros(imsize)\n",
    "    nnz = np.zeros(dct_matrix.shape)\n",
    "    if (percent < 50):\n",
    "        S = 5000/percent\n",
    "    else:\n",
    "        S = 200 - 2*percent \n",
    "    Q_dyn = np.floor((S*Q + 50) / 100);\n",
    "    Q_dyn[Q_dyn == 0] = 1\n",
    "    for i in range(0, imsize[0], 8):\n",
    "        for j in range(0, imsize[1], 8):\n",
    "            quant = np.round(dct_matrix[i:(i+8),j:(j+8)]/Q_dyn) \n",
    "            im_dct[i:(i+8),j:(j+8)] = IDCT2(quant)\n",
    "            nnz[i, j] = np.count_nonzero(quant)\n",
    "    \n",
    "    ax[0].imshow(img_seadoge, cmap=plt.cm.Greys_r); \n",
    "    ax[0].set_title(\"%0.2f MB\" %(area*8/1e+6))\n",
    "    ax[1].imshow(im_dct, cmap=plt.cm.Greys_r); \n",
    "    ax[1].set_title(\"%0.2f MB\" %(np.sum(nnz)*8/1e+6))\n",
    "interact(update, percent=FloatSlider_nice(min=0, max=100, step=0.01, value=100, \n",
    "                                     description=\"Nivel de compresión\"));"
   ]
  }
 ],
 "metadata": {
  "kernelspec": {
   "display_name": "Python 3",
   "language": "python",
   "name": "python3"
  },
  "language_info": {
   "codemirror_mode": {
    "name": "ipython",
    "version": 3
   },
   "file_extension": ".py",
   "mimetype": "text/x-python",
   "name": "python",
   "nbconvert_exporter": "python",
   "pygments_lexer": "ipython3",
   "version": "3.8.1"
  }
 },
 "nbformat": 4,
 "nbformat_minor": 4
}
