{
 "cells": [
  {
   "cell_type": "code",
   "execution_count": null,
   "metadata": {},
   "outputs": [],
   "source": [
    "%matplotlib inline\n",
    "import numpy as np\n",
    "import matplotlib.pyplot as plt"
   ]
  },
  {
   "cell_type": "markdown",
   "metadata": {},
   "source": [
    "# Transformada de Fourier 1D\n",
    "\n",
    "1. Use scipy.fftpack para calcular la transformada de Fourier de la siguiente señal\n",
    "1. Muestre el espectro de magnitud y el espectro de fase.\n",
    "1. Determine los frecuencias más relevantes estudiando el espectro de magnitud\n",
    "1. Extraiga las fases asociadas a partir del espectro de fase\n",
    "1. Reconstruya la señal \"limpia\" usando:\n",
    "$$\n",
    "y = \\sum_{k=1}^K \\cos(2\\pi t f_k + \\phi_k) \n",
    "$$"
   ]
  },
  {
   "cell_type": "code",
   "execution_count": null,
   "metadata": {},
   "outputs": [],
   "source": [
    "import pickle\n",
    "time, data, Fs = pickle.load(open(\"data.pkl\", \"rb\"))\n",
    "plt.plot(time, data);"
   ]
  },
  {
   "cell_type": "markdown",
   "metadata": {},
   "source": [
    "# Match filter\n",
    "\n",
    "Un match filter es un filtro convolucional cuyo objetivo es detectar la presencia de una señal modelo o template dentro de otra señal\n",
    "\n",
    "En este experimento usaremos imágenes en escala de grises\n",
    "\n",
    "- La imagen denominada `template` corresponde al modelo\n",
    "- La imagen denominada `data` corresponde a la imagen de prueba, es decir la señal donde queremos detectar la presencia o ausencia de nuestro modelo"
   ]
  },
  {
   "cell_type": "code",
   "execution_count": null,
   "metadata": {},
   "outputs": [],
   "source": [
    "def color2bw(img):\n",
    "    return np.dot(img, [0.299, 0.549, 0.112])\n",
    "\n",
    "template = color2bw(plt.imread(\"template.png\"))\n",
    "data = color2bw(plt.imread(\"mario1.png\"))\n",
    "s_noise = 0.1\n",
    "data += s_noise*np.random.randn(*data.shape) # Contaminación con ruido blanco\n",
    "\n",
    "fig, ax = plt.subplots(1, 2, figsize=(10, 4))\n",
    "ax[0].imshow(template, cmap=plt.cm.Greys_r);\n",
    "ax[1].imshow(data, cmap=plt.cm.Greys_r);"
   ]
  },
  {
   "cell_type": "markdown",
   "metadata": {},
   "source": [
    "Utilice la función de scipy [`correlate2d`](https://docs.scipy.org/doc/scipy-0.15.1/reference/generated/scipy.signal.correlate2d.html) para implementar el match filter\n",
    "\n",
    "1. Obtenga versiones cetradas de `data` y `template` restandoles la media\n",
    "1. Obtenga la correlación cruzada entre las señales usando correlate2d\n",
    "1. Construya una máscara binaria en base a la correlación cruzada: `result > umbral` calibre el umbral de binarización tal que la máscara revele sólo la posición del template en la imagen\n",
    "1. Muestre la imagen original y la máscara\n",
    "1. (Opcional) Encuentre el valor máximo de `s_noise`  con el cual es posible detectar el template\n",
    "\n"
   ]
  },
  {
   "cell_type": "code",
   "execution_count": null,
   "metadata": {},
   "outputs": [],
   "source": []
  }
 ],
 "metadata": {
  "kernelspec": {
   "display_name": "Python 3",
   "language": "python",
   "name": "python3"
  },
  "language_info": {
   "codemirror_mode": {
    "name": "ipython",
    "version": 3
   },
   "file_extension": ".py",
   "mimetype": "text/x-python",
   "name": "python",
   "nbconvert_exporter": "python",
   "pygments_lexer": "ipython3",
   "version": "3.7.6"
  }
 },
 "nbformat": 4,
 "nbformat_minor": 4
}
